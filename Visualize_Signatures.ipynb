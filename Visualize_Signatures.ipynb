{
 "cells": [
  {
   "cell_type": "code",
   "execution_count": 10,
   "metadata": {
    "collapsed": false,
    "deletable": true,
    "editable": true
   },
   "outputs": [],
   "source": [
    "# from clustergrammer_widget import *\n",
    "from clustergrammer import Network\n",
    "net = Network()"
   ]
  },
  {
   "cell_type": "markdown",
   "metadata": {
    "deletable": true,
    "editable": true
   },
   "source": [
    "# top 500 genes from two expression sigs"
   ]
  },
  {
   "cell_type": "code",
   "execution_count": 20,
   "metadata": {
    "collapsed": false,
    "deletable": true,
    "editable": true
   },
   "outputs": [],
   "source": [
    "net.load_file('proc_data/exp_sigs.txt')\n",
    "net.filter_N_top('row', 500, rank_type='sum')\n",
    "net.write_matrix_to_tsv('proc_data/top_500_genes.txt')"
   ]
  },
  {
   "cell_type": "code",
   "execution_count": 21,
   "metadata": {
    "collapsed": false
   },
   "outputs": [
    {
     "name": "stdout",
     "output_type": "stream",
     "text": [
      "(500, 2)\n",
      "500\n"
     ]
    }
   ],
   "source": [
    "df_exp = net.export_df()\n",
    "print(df_exp.shape)\n",
    "keep_genes = df_exp.index.tolist()\n",
    "print(len(keep_genes))"
   ]
  },
  {
   "cell_type": "markdown",
   "metadata": {},
   "source": [
    "# filter exp-pert matrix using these genes"
   ]
  },
  {
   "cell_type": "code",
   "execution_count": 32,
   "metadata": {
    "collapsed": false
   },
   "outputs": [
    {
     "name": "stdout",
     "output_type": "stream",
     "text": [
      "(1005, 5)\n"
     ]
    }
   ],
   "source": [
    "net.load_file('proc_data/exp-pert_sigs.txt')\n",
    "df_ep = net.export_df()\n",
    "print(df.shape)"
   ]
  },
  {
   "cell_type": "code",
   "execution_count": 33,
   "metadata": {
    "collapsed": false
   },
   "outputs": [
    {
     "ename": "KeyError",
     "evalue": "\"['TMSB4X' 'LGALS1' 'FTL' 'VIM' 'S100A6' 'CST3' 'ACTB' 'SPARC' 'SERPINE2'\\n 'CLU' 'ARNT' 'COL3A1' 'MIR1282' 'EEF1A1' 'TGFBI' 'CLEC3B' 'CD9' 'LPCAT2'\\n 'GSN' 'MMP1' 'COL6A1' 'FTH1' 'PKM' 'HTRA1' 'ACTG1' 'MT2A' 'THBS1' 'DCN'\\n 'HSP90B1' 'ANXA1' 'MMP3' 'ITGB1' 'TMSB10' 'PSAP' 'CLDN11' 'CFL1' 'CFD'\\n 'GREM1' 'S100A10' 'GAS6' 'RPLP0' 'CAV1' 'S100A3' 'APLP2' 'MIR3648'\\n 'IGFBP6' 'CPA4' 'MIR6084' 'RPS6' 'SOD2' 'TAGLN' 'SNORD23' 'FBLN1' 'LDHA'\\n 'LOC100130872' 'RPL41' 'RPS2' 'RPS27' 'EIF4A2' 'COL1A1' 'RPS4X' 'CD63'\\n 'RPL3' 'RPL4' 'CALR' 'SERPINE1' 'C18ORF32' 'GLUL' 'COL1A2' 'PPAP2B' 'PFN1'\\n 'TUBA1B' 'GJA1' 'MYL6' 'RPS3A' 'TPM1' 'P4HB' 'S100A11' 'APP' 'CCND1'\\n 'THY1' 'ADIRF' 'RPL26' 'RPS25' 'MT1E' 'TPM2' 'SNORA67' 'RPS12' 'RPL5'\\n 'PPIB' 'PSG5' 'CTSZ' 'ANXA2' 'COL6A3' 'RHOB' 'TIMP2' 'DUSP1' 'GNAS'\\n 'RPL12' 'MEST' 'SBSN' 'MIR4426' 'RPL18A' 'RPL21' 'C12ORF75' 'BZW1'\\n 'RPL35A' 'COL5A1' 'RPL11' 'RPL7' 'MYL9' 'MIR4709' 'RPL31' 'RPL7A' 'ITGA5'\\n 'RPL30' 'GPX1' 'RPS13' 'IFITM3' 'RPL6' 'TIMP1' 'MGP' 'RPS15A' 'NME1'\\n 'RPS8' 'OAZ1' 'S100A13' 'CRLF1' 'KRT7' 'EEF2' 'CALM2' 'PEA15' 'CHPF2'\\n 'MMP14' 'RPS24' 'RPL24' 'BRI3' 'IFITM2' 'HSD11B1L' 'ADM' 'RPL39' 'LY6E'\\n 'RPS29' 'MFI2' 'RPL29' 'KCNMA1' 'TPM4' 'MIR1304' 'PYGB' 'RPL10A' 'WISP2'\\n 'PTMS' 'CALD1' 'CEMIP' 'RPL13A' 'RND3' 'ECM1' 'ATF4' 'SNORA24' 'MIR7705'\\n 'SNORA70' 'LAMP1' 'TUBA1A' 'ENPP2' 'EMP3' 'VAT1' 'MOXD1' 'CDK2AP1' 'ATP5E'\\n 'LUM' 'FKBP9' 'NT5E' 'FAM20C' 'UBB' 'TMEM119' 'IGFBP3' 'TFPI' 'S100A16'\\n 'COL7A1' 'UCHL1' 'AQP3' 'MIR378J' 'PPL' 'TNC' 'RPL32' 'SNORD89' 'CD151'\\n 'SNHG12' 'CTSL' 'MORF4L2' 'FST' 'DBI' 'IGFBP7' 'CXCL12' 'PPIA' 'FRMD6'\\n 'GAS5' 'SNORA27' 'TXN' 'HMOX1' 'CCDC80' 'PGRMC1' 'ENO1' 'FKBP5' 'SNORA32'\\n 'RPL9' 'C19ORF10' 'AHNAK' 'YWHAZ' 'ACADVL' 'HSPA8' 'ERRFI1' 'COL18A1'\\n 'OLFML3' 'RGMB' 'SELM' 'POSTN' 'DKK1' 'MEG3' 'CKAP4' 'TUBB4B' 'MXRA5'\\n 'LOXL4' 'RPL14' 'RPL37A' 'YBX1' 'PAM' 'RPL23A' 'MIR6892' 'RPS3' 'ADH1B'\\n 'RPL27' 'LTBP2' 'SNORD10' 'MRC2' 'GPNMB' 'HNRNPH2' 'CAPN2' 'ARHGDIA'\\n 'CRIP1' 'CHML' 'ASPH' 'PRDX1' 'NOTCH3' 'MMP19' 'H3F3A' 'SGK1' 'CD81'\\n 'ALDOA' 'EIF3E' 'COPS8' 'CTGF' 'PTX3' 'TIMP3' 'RPL34' 'LGALS3' 'TNFRSF11B'\\n 'GNB2L1' 'ID1' 'SLC9A3R2' 'MALL' 'SNORA45B' 'LOXL2' 'COX8A' 'NPTX2'\\n 'ARPC1B' 'ANXA6' 'ATP6V0E1' 'TUBB6' 'ASS1' 'TSC22D3' 'HINT1' 'VAMP5' 'GRN'\\n 'PRKCDBP' 'ZFP36L2' 'PGAM1' 'FBLN5' 'YWHAQ' 'ITGBL1' 'NACA' 'COL6A2'\\n 'FSTL3' 'SLC39A14' 'CALU' 'DNAJB4' 'RHOA' 'MFGE8' 'TRNP1' 'SNHG1' 'APCDD1'\\n 'MYL12B' 'DRAM1' 'PPP1R14B' 'SNORA47' 'AEBP1' 'PLOD1' 'RPL15' 'ARPC2'\\n 'LRP10' 'HTRA3' 'MIF' 'EIF5A' 'CDKN1A' 'CARD16' 'BGN' 'SNORA80E' 'MARCKS'\\n 'PLIN2' 'SDCBP' 'ID3' 'RNH1' 'GATA2' 'MIR6805' 'TNFRSF12A' 'JTB' 'LAPTM4A'\\n 'PDIA6' 'NREP' 'HERC4' 'NTN4' 'ANXA4' 'SRGN' 'FSCN1' 'OST4' 'C11ORF91'\\n 'LRRC15' 'DRAP1' 'POLR2L' 'RPL8' 'WNT5B' 'CYB5A' 'NDRG1' 'RECK' 'AKR1C2'\\n 'ID2' 'RPL19' 'SRPX' 'ISLR' 'COX6A1' 'EEF1G' 'TMEM47' 'SNORA48' 'MIR3936'\\n 'SNED1' 'SNORA52' 'PRKCA' 'ZYX' 'IGFBP4' 'CLTA' 'TAGLN2' 'CAV2' 'MINOS1'\\n 'GALNT2' 'RPL10' 'CD109' 'HTATIP2' 'CRIM1' 'MIR3917' 'PEBP1' 'RPS11'\\n 'INSIG1' 'RPLP1' 'F10' 'NID1' 'MAN1A1' 'SNORA45A' 'SDF4' 'MTRNR2L2'\\n 'ACKR4' 'BSG' 'BTF3' 'PRRX1' 'BAX' 'RPL23' 'LTBP1' 'ARL6IP5' 'THBS2'\\n 'CD248' 'FAP' 'ANTXR1' 'LBH' 'GSTP1' 'GREM2' 'KRT19' 'BLOC1S5' 'ACTN1'\\n 'TRIM29' 'NRP1' 'ADAMTSL4-AS1' 'SCD' 'DPP4' 'ATP1B3' 'EXT1' 'RRAS2'\\n 'MGAT4B' 'SCARNA22' 'MAGIX' 'RGCC' 'NNMT' 'C17ORF49' 'CAP1' 'FOXD1' 'GUK1'\\n 'JUN' 'PCNA-AS1' 'CEP85' 'PRRX2' 'CTSA' 'SERINC3' 'DAB2' 'LOX' 'AKAP2'\\n 'SDC4' 'P2RX6P' 'EPHB6' 'APOD' 'LOXL1' 'RAB32' 'EFEMP2' 'PDGFRA' 'GLIPR1'\\n 'NDUFB2' 'COLEC12' 'MXRA8' 'RPS28' 'MRPS6' 'ITGB5' 'EID1' 'AP2S1' 'PDIA3'\\n 'TP53I11' 'SNORA31' 'EMP1' 'ANPEP' 'ERGIC1' 'HOXB-AS3' 'AKR1C1' 'STXBP5'\\n 'EPAS1' 'CNN2' 'LARP6' 'TEX29' 'LOC100506548' 'CLDN4' 'TMEM45A' 'SEC61A1'\\n 'WISP1' 'TMEM189' 'RPSA' 'CAMK2N1' 'CAPNS1' 'MYL12A' 'INSC' 'MAT2A'\\n 'SPHK1' 'HIST1H2BK' 'TCEAL4' 'TGFBR2' 'RAB7A' 'KRT18' 'C1R' 'STAT1'\\n 'SNORA10' 'NQO1' 'EPS8' 'NFIX' 'CDA' 'ABLIM3' 'ITM2C' 'NPTN' 'FHL2'\\n 'RPS19' 'LPXN' 'SEC22B' 'SNORA71B' 'ANGPTL2' 'PDIA4' 'RPS16' 'EIF4G2'\\n 'SSR2' 'OSR1' 'ENG' 'CITED2' 'LAMA3' 'SNORA26' 'PKIG' 'LAMA4' 'EPPK1'\\n 'RPL38' 'LIMA1' 'RPS14' 'HSP90AB1' 'ACTN4' 'SNORA72' 'ANXA11' 'CD82'\\n 'RAB5C' 'LSS' 'SNORA14B'] not in index\"",
     "output_type": "error",
     "traceback": [
      "\u001b[0;31m---------------------------------------------------------------------------\u001b[0m",
      "\u001b[0;31mKeyError\u001b[0m                                  Traceback (most recent call last)",
      "\u001b[0;32m<ipython-input-33-d21c6876fe7f>\u001b[0m in \u001b[0;36m<module>\u001b[0;34m()\u001b[0m\n\u001b[1;32m      1\u001b[0m \u001b[0mdf_ep\u001b[0m \u001b[0;34m=\u001b[0m \u001b[0mdf_ep\u001b[0m\u001b[0;34m.\u001b[0m\u001b[0mtranspose\u001b[0m\u001b[0;34m(\u001b[0m\u001b[0;34m)\u001b[0m\u001b[0;34m\u001b[0m\u001b[0m\n\u001b[0;32m----> 2\u001b[0;31m \u001b[0mdf_ep\u001b[0m \u001b[0;34m=\u001b[0m \u001b[0mdf\u001b[0m\u001b[0;34m[\u001b[0m\u001b[0mkeep_genes\u001b[0m\u001b[0;34m]\u001b[0m\u001b[0;34m\u001b[0m\u001b[0m\n\u001b[0m\u001b[1;32m      3\u001b[0m \u001b[0;31m# df_ep = df_ep.transpose()\u001b[0m\u001b[0;34m\u001b[0m\u001b[0;34m\u001b[0m\u001b[0m\n\u001b[1;32m      4\u001b[0m \u001b[0;32mprint\u001b[0m\u001b[0;34m(\u001b[0m\u001b[0mdf_ep\u001b[0m\u001b[0;34m.\u001b[0m\u001b[0mshape\u001b[0m\u001b[0;34m)\u001b[0m\u001b[0;34m\u001b[0m\u001b[0m\n",
      "\u001b[0;32m/Users/nickfernandez/anaconda/lib/python2.7/site-packages/pandas/core/frame.pyc\u001b[0m in \u001b[0;36m__getitem__\u001b[0;34m(self, key)\u001b[0m\n\u001b[1;32m   1961\u001b[0m         \u001b[0;32mif\u001b[0m \u001b[0misinstance\u001b[0m\u001b[0;34m(\u001b[0m\u001b[0mkey\u001b[0m\u001b[0;34m,\u001b[0m \u001b[0;34m(\u001b[0m\u001b[0mSeries\u001b[0m\u001b[0;34m,\u001b[0m \u001b[0mnp\u001b[0m\u001b[0;34m.\u001b[0m\u001b[0mndarray\u001b[0m\u001b[0;34m,\u001b[0m \u001b[0mIndex\u001b[0m\u001b[0;34m,\u001b[0m \u001b[0mlist\u001b[0m\u001b[0;34m)\u001b[0m\u001b[0;34m)\u001b[0m\u001b[0;34m:\u001b[0m\u001b[0;34m\u001b[0m\u001b[0m\n\u001b[1;32m   1962\u001b[0m             \u001b[0;31m# either boolean or fancy integer index\u001b[0m\u001b[0;34m\u001b[0m\u001b[0;34m\u001b[0m\u001b[0m\n\u001b[0;32m-> 1963\u001b[0;31m             \u001b[0;32mreturn\u001b[0m \u001b[0mself\u001b[0m\u001b[0;34m.\u001b[0m\u001b[0m_getitem_array\u001b[0m\u001b[0;34m(\u001b[0m\u001b[0mkey\u001b[0m\u001b[0;34m)\u001b[0m\u001b[0;34m\u001b[0m\u001b[0m\n\u001b[0m\u001b[1;32m   1964\u001b[0m         \u001b[0;32melif\u001b[0m \u001b[0misinstance\u001b[0m\u001b[0;34m(\u001b[0m\u001b[0mkey\u001b[0m\u001b[0;34m,\u001b[0m \u001b[0mDataFrame\u001b[0m\u001b[0;34m)\u001b[0m\u001b[0;34m:\u001b[0m\u001b[0;34m\u001b[0m\u001b[0m\n\u001b[1;32m   1965\u001b[0m             \u001b[0;32mreturn\u001b[0m \u001b[0mself\u001b[0m\u001b[0;34m.\u001b[0m\u001b[0m_getitem_frame\u001b[0m\u001b[0;34m(\u001b[0m\u001b[0mkey\u001b[0m\u001b[0;34m)\u001b[0m\u001b[0;34m\u001b[0m\u001b[0m\n",
      "\u001b[0;32m/Users/nickfernandez/anaconda/lib/python2.7/site-packages/pandas/core/frame.pyc\u001b[0m in \u001b[0;36m_getitem_array\u001b[0;34m(self, key)\u001b[0m\n\u001b[1;32m   2005\u001b[0m             \u001b[0;32mreturn\u001b[0m \u001b[0mself\u001b[0m\u001b[0;34m.\u001b[0m\u001b[0mtake\u001b[0m\u001b[0;34m(\u001b[0m\u001b[0mindexer\u001b[0m\u001b[0;34m,\u001b[0m \u001b[0maxis\u001b[0m\u001b[0;34m=\u001b[0m\u001b[0;36m0\u001b[0m\u001b[0;34m,\u001b[0m \u001b[0mconvert\u001b[0m\u001b[0;34m=\u001b[0m\u001b[0mFalse\u001b[0m\u001b[0;34m)\u001b[0m\u001b[0;34m\u001b[0m\u001b[0m\n\u001b[1;32m   2006\u001b[0m         \u001b[0;32melse\u001b[0m\u001b[0;34m:\u001b[0m\u001b[0;34m\u001b[0m\u001b[0m\n\u001b[0;32m-> 2007\u001b[0;31m             \u001b[0mindexer\u001b[0m \u001b[0;34m=\u001b[0m \u001b[0mself\u001b[0m\u001b[0;34m.\u001b[0m\u001b[0mix\u001b[0m\u001b[0;34m.\u001b[0m\u001b[0m_convert_to_indexer\u001b[0m\u001b[0;34m(\u001b[0m\u001b[0mkey\u001b[0m\u001b[0;34m,\u001b[0m \u001b[0maxis\u001b[0m\u001b[0;34m=\u001b[0m\u001b[0;36m1\u001b[0m\u001b[0;34m)\u001b[0m\u001b[0;34m\u001b[0m\u001b[0m\n\u001b[0m\u001b[1;32m   2008\u001b[0m             \u001b[0;32mreturn\u001b[0m \u001b[0mself\u001b[0m\u001b[0;34m.\u001b[0m\u001b[0mtake\u001b[0m\u001b[0;34m(\u001b[0m\u001b[0mindexer\u001b[0m\u001b[0;34m,\u001b[0m \u001b[0maxis\u001b[0m\u001b[0;34m=\u001b[0m\u001b[0;36m1\u001b[0m\u001b[0;34m,\u001b[0m \u001b[0mconvert\u001b[0m\u001b[0;34m=\u001b[0m\u001b[0mTrue\u001b[0m\u001b[0;34m)\u001b[0m\u001b[0;34m\u001b[0m\u001b[0m\n\u001b[1;32m   2009\u001b[0m \u001b[0;34m\u001b[0m\u001b[0m\n",
      "\u001b[0;32m/Users/nickfernandez/anaconda/lib/python2.7/site-packages/pandas/core/indexing.pyc\u001b[0m in \u001b[0;36m_convert_to_indexer\u001b[0;34m(self, obj, axis, is_setter)\u001b[0m\n\u001b[1;32m   1148\u001b[0m                 \u001b[0mmask\u001b[0m \u001b[0;34m=\u001b[0m \u001b[0mcheck\u001b[0m \u001b[0;34m==\u001b[0m \u001b[0;34m-\u001b[0m\u001b[0;36m1\u001b[0m\u001b[0;34m\u001b[0m\u001b[0m\n\u001b[1;32m   1149\u001b[0m                 \u001b[0;32mif\u001b[0m \u001b[0mmask\u001b[0m\u001b[0;34m.\u001b[0m\u001b[0many\u001b[0m\u001b[0;34m(\u001b[0m\u001b[0;34m)\u001b[0m\u001b[0;34m:\u001b[0m\u001b[0;34m\u001b[0m\u001b[0m\n\u001b[0;32m-> 1150\u001b[0;31m                     \u001b[0;32mraise\u001b[0m \u001b[0mKeyError\u001b[0m\u001b[0;34m(\u001b[0m\u001b[0;34m'%s not in index'\u001b[0m \u001b[0;34m%\u001b[0m \u001b[0mobjarr\u001b[0m\u001b[0;34m[\u001b[0m\u001b[0mmask\u001b[0m\u001b[0;34m]\u001b[0m\u001b[0;34m)\u001b[0m\u001b[0;34m\u001b[0m\u001b[0m\n\u001b[0m\u001b[1;32m   1151\u001b[0m \u001b[0;34m\u001b[0m\u001b[0m\n\u001b[1;32m   1152\u001b[0m                 \u001b[0;32mreturn\u001b[0m \u001b[0m_values_from_object\u001b[0m\u001b[0;34m(\u001b[0m\u001b[0mindexer\u001b[0m\u001b[0;34m)\u001b[0m\u001b[0;34m\u001b[0m\u001b[0m\n",
      "\u001b[0;31mKeyError\u001b[0m: \"['TMSB4X' 'LGALS1' 'FTL' 'VIM' 'S100A6' 'CST3' 'ACTB' 'SPARC' 'SERPINE2'\\n 'CLU' 'ARNT' 'COL3A1' 'MIR1282' 'EEF1A1' 'TGFBI' 'CLEC3B' 'CD9' 'LPCAT2'\\n 'GSN' 'MMP1' 'COL6A1' 'FTH1' 'PKM' 'HTRA1' 'ACTG1' 'MT2A' 'THBS1' 'DCN'\\n 'HSP90B1' 'ANXA1' 'MMP3' 'ITGB1' 'TMSB10' 'PSAP' 'CLDN11' 'CFL1' 'CFD'\\n 'GREM1' 'S100A10' 'GAS6' 'RPLP0' 'CAV1' 'S100A3' 'APLP2' 'MIR3648'\\n 'IGFBP6' 'CPA4' 'MIR6084' 'RPS6' 'SOD2' 'TAGLN' 'SNORD23' 'FBLN1' 'LDHA'\\n 'LOC100130872' 'RPL41' 'RPS2' 'RPS27' 'EIF4A2' 'COL1A1' 'RPS4X' 'CD63'\\n 'RPL3' 'RPL4' 'CALR' 'SERPINE1' 'C18ORF32' 'GLUL' 'COL1A2' 'PPAP2B' 'PFN1'\\n 'TUBA1B' 'GJA1' 'MYL6' 'RPS3A' 'TPM1' 'P4HB' 'S100A11' 'APP' 'CCND1'\\n 'THY1' 'ADIRF' 'RPL26' 'RPS25' 'MT1E' 'TPM2' 'SNORA67' 'RPS12' 'RPL5'\\n 'PPIB' 'PSG5' 'CTSZ' 'ANXA2' 'COL6A3' 'RHOB' 'TIMP2' 'DUSP1' 'GNAS'\\n 'RPL12' 'MEST' 'SBSN' 'MIR4426' 'RPL18A' 'RPL21' 'C12ORF75' 'BZW1'\\n 'RPL35A' 'COL5A1' 'RPL11' 'RPL7' 'MYL9' 'MIR4709' 'RPL31' 'RPL7A' 'ITGA5'\\n 'RPL30' 'GPX1' 'RPS13' 'IFITM3' 'RPL6' 'TIMP1' 'MGP' 'RPS15A' 'NME1'\\n 'RPS8' 'OAZ1' 'S100A13' 'CRLF1' 'KRT7' 'EEF2' 'CALM2' 'PEA15' 'CHPF2'\\n 'MMP14' 'RPS24' 'RPL24' 'BRI3' 'IFITM2' 'HSD11B1L' 'ADM' 'RPL39' 'LY6E'\\n 'RPS29' 'MFI2' 'RPL29' 'KCNMA1' 'TPM4' 'MIR1304' 'PYGB' 'RPL10A' 'WISP2'\\n 'PTMS' 'CALD1' 'CEMIP' 'RPL13A' 'RND3' 'ECM1' 'ATF4' 'SNORA24' 'MIR7705'\\n 'SNORA70' 'LAMP1' 'TUBA1A' 'ENPP2' 'EMP3' 'VAT1' 'MOXD1' 'CDK2AP1' 'ATP5E'\\n 'LUM' 'FKBP9' 'NT5E' 'FAM20C' 'UBB' 'TMEM119' 'IGFBP3' 'TFPI' 'S100A16'\\n 'COL7A1' 'UCHL1' 'AQP3' 'MIR378J' 'PPL' 'TNC' 'RPL32' 'SNORD89' 'CD151'\\n 'SNHG12' 'CTSL' 'MORF4L2' 'FST' 'DBI' 'IGFBP7' 'CXCL12' 'PPIA' 'FRMD6'\\n 'GAS5' 'SNORA27' 'TXN' 'HMOX1' 'CCDC80' 'PGRMC1' 'ENO1' 'FKBP5' 'SNORA32'\\n 'RPL9' 'C19ORF10' 'AHNAK' 'YWHAZ' 'ACADVL' 'HSPA8' 'ERRFI1' 'COL18A1'\\n 'OLFML3' 'RGMB' 'SELM' 'POSTN' 'DKK1' 'MEG3' 'CKAP4' 'TUBB4B' 'MXRA5'\\n 'LOXL4' 'RPL14' 'RPL37A' 'YBX1' 'PAM' 'RPL23A' 'MIR6892' 'RPS3' 'ADH1B'\\n 'RPL27' 'LTBP2' 'SNORD10' 'MRC2' 'GPNMB' 'HNRNPH2' 'CAPN2' 'ARHGDIA'\\n 'CRIP1' 'CHML' 'ASPH' 'PRDX1' 'NOTCH3' 'MMP19' 'H3F3A' 'SGK1' 'CD81'\\n 'ALDOA' 'EIF3E' 'COPS8' 'CTGF' 'PTX3' 'TIMP3' 'RPL34' 'LGALS3' 'TNFRSF11B'\\n 'GNB2L1' 'ID1' 'SLC9A3R2' 'MALL' 'SNORA45B' 'LOXL2' 'COX8A' 'NPTX2'\\n 'ARPC1B' 'ANXA6' 'ATP6V0E1' 'TUBB6' 'ASS1' 'TSC22D3' 'HINT1' 'VAMP5' 'GRN'\\n 'PRKCDBP' 'ZFP36L2' 'PGAM1' 'FBLN5' 'YWHAQ' 'ITGBL1' 'NACA' 'COL6A2'\\n 'FSTL3' 'SLC39A14' 'CALU' 'DNAJB4' 'RHOA' 'MFGE8' 'TRNP1' 'SNHG1' 'APCDD1'\\n 'MYL12B' 'DRAM1' 'PPP1R14B' 'SNORA47' 'AEBP1' 'PLOD1' 'RPL15' 'ARPC2'\\n 'LRP10' 'HTRA3' 'MIF' 'EIF5A' 'CDKN1A' 'CARD16' 'BGN' 'SNORA80E' 'MARCKS'\\n 'PLIN2' 'SDCBP' 'ID3' 'RNH1' 'GATA2' 'MIR6805' 'TNFRSF12A' 'JTB' 'LAPTM4A'\\n 'PDIA6' 'NREP' 'HERC4' 'NTN4' 'ANXA4' 'SRGN' 'FSCN1' 'OST4' 'C11ORF91'\\n 'LRRC15' 'DRAP1' 'POLR2L' 'RPL8' 'WNT5B' 'CYB5A' 'NDRG1' 'RECK' 'AKR1C2'\\n 'ID2' 'RPL19' 'SRPX' 'ISLR' 'COX6A1' 'EEF1G' 'TMEM47' 'SNORA48' 'MIR3936'\\n 'SNED1' 'SNORA52' 'PRKCA' 'ZYX' 'IGFBP4' 'CLTA' 'TAGLN2' 'CAV2' 'MINOS1'\\n 'GALNT2' 'RPL10' 'CD109' 'HTATIP2' 'CRIM1' 'MIR3917' 'PEBP1' 'RPS11'\\n 'INSIG1' 'RPLP1' 'F10' 'NID1' 'MAN1A1' 'SNORA45A' 'SDF4' 'MTRNR2L2'\\n 'ACKR4' 'BSG' 'BTF3' 'PRRX1' 'BAX' 'RPL23' 'LTBP1' 'ARL6IP5' 'THBS2'\\n 'CD248' 'FAP' 'ANTXR1' 'LBH' 'GSTP1' 'GREM2' 'KRT19' 'BLOC1S5' 'ACTN1'\\n 'TRIM29' 'NRP1' 'ADAMTSL4-AS1' 'SCD' 'DPP4' 'ATP1B3' 'EXT1' 'RRAS2'\\n 'MGAT4B' 'SCARNA22' 'MAGIX' 'RGCC' 'NNMT' 'C17ORF49' 'CAP1' 'FOXD1' 'GUK1'\\n 'JUN' 'PCNA-AS1' 'CEP85' 'PRRX2' 'CTSA' 'SERINC3' 'DAB2' 'LOX' 'AKAP2'\\n 'SDC4' 'P2RX6P' 'EPHB6' 'APOD' 'LOXL1' 'RAB32' 'EFEMP2' 'PDGFRA' 'GLIPR1'\\n 'NDUFB2' 'COLEC12' 'MXRA8' 'RPS28' 'MRPS6' 'ITGB5' 'EID1' 'AP2S1' 'PDIA3'\\n 'TP53I11' 'SNORA31' 'EMP1' 'ANPEP' 'ERGIC1' 'HOXB-AS3' 'AKR1C1' 'STXBP5'\\n 'EPAS1' 'CNN2' 'LARP6' 'TEX29' 'LOC100506548' 'CLDN4' 'TMEM45A' 'SEC61A1'\\n 'WISP1' 'TMEM189' 'RPSA' 'CAMK2N1' 'CAPNS1' 'MYL12A' 'INSC' 'MAT2A'\\n 'SPHK1' 'HIST1H2BK' 'TCEAL4' 'TGFBR2' 'RAB7A' 'KRT18' 'C1R' 'STAT1'\\n 'SNORA10' 'NQO1' 'EPS8' 'NFIX' 'CDA' 'ABLIM3' 'ITM2C' 'NPTN' 'FHL2'\\n 'RPS19' 'LPXN' 'SEC22B' 'SNORA71B' 'ANGPTL2' 'PDIA4' 'RPS16' 'EIF4G2'\\n 'SSR2' 'OSR1' 'ENG' 'CITED2' 'LAMA3' 'SNORA26' 'PKIG' 'LAMA4' 'EPPK1'\\n 'RPL38' 'LIMA1' 'RPS14' 'HSP90AB1' 'ACTN4' 'SNORA72' 'ANXA11' 'CD82'\\n 'RAB5C' 'LSS' 'SNORA14B'] not in index\""
     ]
    }
   ],
   "source": [
    "df_ep = df_ep.transpose()\n",
    "df_ep = df[keep_genes]\n",
    "# df_ep = df_ep.transpose()\n",
    "print(df_ep.shape)"
   ]
  },
  {
   "cell_type": "code",
   "execution_count": null,
   "metadata": {
    "collapsed": true
   },
   "outputs": [],
   "source": []
  },
  {
   "cell_type": "code",
   "execution_count": 5,
   "metadata": {
    "collapsed": true,
    "deletable": true,
    "editable": true
   },
   "outputs": [],
   "source": [
    "net.make_clust()"
   ]
  },
  {
   "cell_type": "code",
   "execution_count": 34,
   "metadata": {
    "collapsed": false,
    "deletable": true,
    "editable": true
   },
   "outputs": [],
   "source": [
    "clustergrammer_widget(network=net.widget())"
   ]
  },
  {
   "cell_type": "code",
   "execution_count": 37,
   "metadata": {
    "collapsed": false,
    "deletable": true,
    "editable": true
   },
   "outputs": [],
   "source": [
    "# net.load_file('proc_data/exp_sigs.txt')\n",
    "# net.filter_N_top('row', 500, rank_type='sum')\n",
    "# net.normalize(axis='row', norm_type='zscore')\n",
    "clustergrammer_widget(network=net.widget())"
   ]
  },
  {
   "cell_type": "code",
   "execution_count": 6,
   "metadata": {
    "collapsed": false,
    "deletable": true,
    "editable": true
   },
   "outputs": [
    {
     "data": {
      "application/vnd.jupyter.widget-view+json": {
       "model_id": "b8c68e957f0f489a9e742947cc68b893"
      }
     },
     "metadata": {},
     "output_type": "display_data"
    }
   ],
   "source": []
  },
  {
   "cell_type": "code",
   "execution_count": null,
   "metadata": {
    "collapsed": true,
    "deletable": true,
    "editable": true
   },
   "outputs": [],
   "source": []
  }
 ],
 "metadata": {
  "anaconda-cloud": {},
  "kernelspec": {
   "display_name": "Python 2",
   "language": "python",
   "name": "python2"
  },
  "language_info": {
   "codemirror_mode": {
    "name": "ipython",
    "version": 2
   },
   "file_extension": ".py",
   "mimetype": "text/x-python",
   "name": "python",
   "nbconvert_exporter": "python",
   "pygments_lexer": "ipython2",
   "version": "2.7.12"
  }
 },
 "nbformat": 4,
 "nbformat_minor": 2
}
